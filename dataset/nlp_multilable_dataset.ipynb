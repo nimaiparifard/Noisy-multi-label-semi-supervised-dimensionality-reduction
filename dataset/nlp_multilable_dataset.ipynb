{
 "cells": [
  {
   "cell_type": "code",
   "execution_count": 1,
   "outputs": [],
   "source": [
    "import pandas as pd"
   ],
   "metadata": {
    "collapsed": false,
    "ExecuteTime": {
     "end_time": "2024-02-14T17:52:39.403830800Z",
     "start_time": "2024-02-14T17:52:38.292333200Z"
    }
   }
  },
  {
   "cell_type": "code",
   "execution_count": 44,
   "metadata": {
    "collapsed": true,
    "ExecuteTime": {
     "end_time": "2024-02-14T19:14:44.592744300Z",
     "start_time": "2024-02-14T19:14:44.178466800Z"
    }
   },
   "outputs": [
    {
     "data": {
      "text/plain": "                                                   TITLE  \\\n0            Reconstructing Subject-Specific Effect Maps   \n1                     Rotation Invariance Neural Network   \n2      Spherical polyharmonics and Poisson kernels fo...   \n3      A finite element approximation for the stochas...   \n4      Comparative study of Discrete Wavelet Transfor...   \n...                                                  ...   \n20967  Contemporary machine learning: a guide for pra...   \n20968  Uniform diamond coatings on WC-Co hard alloy c...   \n20969  Analysing Soccer Games with Clustering and Con...   \n20970  On the Efficient Simulation of the Left-Tail o...   \n20971   Why optional stopping is a problem for Bayesians   \n\n                                                ABSTRACT  \n0        Predictive models allow subject-specific inf...  \n1        Rotation invariance and translation invarian...  \n2        We introduce and develop the notion of spher...  \n3        The stochastic Landau--Lifshitz--Gilbert (LL...  \n4        Fourier-transform infra-red (FTIR) spectra o...  \n...                                                  ...  \n20967    Machine learning is finding increasingly bro...  \n20968    Polycrystalline diamond coatings have been g...  \n20969    We present a new approach for identifying si...  \n20970    The sum of Log-normal variates is encountere...  \n20971    Recently, optional stopping has been a subje...  \n\n[20972 rows x 2 columns]",
      "text/html": "<div>\n<style scoped>\n    .dataframe tbody tr th:only-of-type {\n        vertical-align: middle;\n    }\n\n    .dataframe tbody tr th {\n        vertical-align: top;\n    }\n\n    .dataframe thead th {\n        text-align: right;\n    }\n</style>\n<table border=\"1\" class=\"dataframe\">\n  <thead>\n    <tr style=\"text-align: right;\">\n      <th></th>\n      <th>TITLE</th>\n      <th>ABSTRACT</th>\n    </tr>\n  </thead>\n  <tbody>\n    <tr>\n      <th>0</th>\n      <td>Reconstructing Subject-Specific Effect Maps</td>\n      <td>Predictive models allow subject-specific inf...</td>\n    </tr>\n    <tr>\n      <th>1</th>\n      <td>Rotation Invariance Neural Network</td>\n      <td>Rotation invariance and translation invarian...</td>\n    </tr>\n    <tr>\n      <th>2</th>\n      <td>Spherical polyharmonics and Poisson kernels fo...</td>\n      <td>We introduce and develop the notion of spher...</td>\n    </tr>\n    <tr>\n      <th>3</th>\n      <td>A finite element approximation for the stochas...</td>\n      <td>The stochastic Landau--Lifshitz--Gilbert (LL...</td>\n    </tr>\n    <tr>\n      <th>4</th>\n      <td>Comparative study of Discrete Wavelet Transfor...</td>\n      <td>Fourier-transform infra-red (FTIR) spectra o...</td>\n    </tr>\n    <tr>\n      <th>...</th>\n      <td>...</td>\n      <td>...</td>\n    </tr>\n    <tr>\n      <th>20967</th>\n      <td>Contemporary machine learning: a guide for pra...</td>\n      <td>Machine learning is finding increasingly bro...</td>\n    </tr>\n    <tr>\n      <th>20968</th>\n      <td>Uniform diamond coatings on WC-Co hard alloy c...</td>\n      <td>Polycrystalline diamond coatings have been g...</td>\n    </tr>\n    <tr>\n      <th>20969</th>\n      <td>Analysing Soccer Games with Clustering and Con...</td>\n      <td>We present a new approach for identifying si...</td>\n    </tr>\n    <tr>\n      <th>20970</th>\n      <td>On the Efficient Simulation of the Left-Tail o...</td>\n      <td>The sum of Log-normal variates is encountere...</td>\n    </tr>\n    <tr>\n      <th>20971</th>\n      <td>Why optional stopping is a problem for Bayesians</td>\n      <td>Recently, optional stopping has been a subje...</td>\n    </tr>\n  </tbody>\n</table>\n<p>20972 rows × 2 columns</p>\n</div>"
     },
     "execution_count": 44,
     "metadata": {},
     "output_type": "execute_result"
    }
   ],
   "source": [
    "abstract_text_multilabel_dataset = pd.read_csv(\"train.csv\")\n",
    "available_labels = abstract_text_multilabel_dataset.index.unique()\n",
    "desired_labels = ['Computer Science', 'Physics', 'Mathematics', 'Statistics', 'Quantitative Biology',\n",
    "                  'Quantitative Finance']\n",
    "\n",
    "# Check if the desired labels are present in the available labels\n",
    "missing_labels = [label for label in desired_labels if label not in available_labels]\n",
    "\n",
    "# if missing_labels:\n",
    "#     print(f\"The following labels are missing in the dataset: {missing_labels}\")\n",
    "# else:\n",
    "#     # Retrieve the desired labels from the dataset\n",
    "#\n",
    "#     abstract_text_multilabel_dataset.drop(desired_labels, inplace=True)\n",
    "    # Continue with the rest of your code\n",
    "abstract_text_multilabel_dataset_labels = abstract_text_multilabel_dataset.loc[:, desired_labels]\n",
    "abstract_text_multilabel_dataset.drop(desired_labels, axis=1, inplace=True)\n",
    "abstract_text_multilabel_dataset.drop([\"ID\"], axis=1, inplace=True)\n",
    "abstract_text_multilabel_dataset"
   ]
  },
  {
   "cell_type": "code",
   "execution_count": 5,
   "outputs": [
    {
     "name": "stderr",
     "output_type": "stream",
     "text": [
      "[nltk_data] Downloading package wordnet to\n",
      "[nltk_data]     C:\\Users\\ASUS\\AppData\\Roaming\\nltk_data...\n",
      "[nltk_data]   Package wordnet is already up-to-date!\n"
     ]
    },
    {
     "data": {
      "text/plain": "True"
     },
     "execution_count": 5,
     "metadata": {},
     "output_type": "execute_result"
    }
   ],
   "source": [
    "import nltk\n",
    "nltk.download('wordnet')"
   ],
   "metadata": {
    "collapsed": false,
    "ExecuteTime": {
     "end_time": "2024-02-14T18:01:58.527187Z",
     "start_time": "2024-02-14T18:01:40.332468100Z"
    }
   }
  },
  {
   "cell_type": "code",
   "execution_count": 6,
   "outputs": [],
   "source": [
    "from nltk.corpus import wordnet\n",
    "from nltk.stem import WordNetLemmatizer\n",
    "lemmatizer = WordNetLemmatizer()\n",
    "def preprocess_text(text):\n",
    "    # Tokenize the text\n",
    "    tokens = text.split()\n",
    "\n",
    "    # Lemmatize tokens and retrieve word definitions\n",
    "    embeddings = []\n",
    "    for token in tokens:\n",
    "        lemma = lemmatizer.lemmatize(token)\n",
    "        synsets = wordnet.synsets(lemma)\n",
    "        if synsets:\n",
    "            definition = synsets[0].definition()\n",
    "            embeddings.append((lemma, definition))\n",
    "\n",
    "    return embeddings"
   ],
   "metadata": {
    "collapsed": false,
    "ExecuteTime": {
     "end_time": "2024-02-14T18:02:01.854816500Z",
     "start_time": "2024-02-14T18:02:01.849481600Z"
    }
   }
  },
  {
   "cell_type": "code",
   "execution_count": 7,
   "outputs": [
    {
     "name": "stdout",
     "output_type": "stream",
     "text": [
      "0        [(Predictive, of or relating to prediction; ha...\n",
      "1        [(Rotation, the act of rotating as if on an ax...\n",
      "2        [(introduce, cause to come to know personally)...\n",
      "3        [(stochastic, being or having a random variabl...\n",
      "4        [(spectrum, an ordered array of the components...\n",
      "                               ...                        \n",
      "20967    [(Machine, any mechanical or electrical device...\n",
      "20968    [(Polycrystalline, composed of aggregates of c...\n",
      "20969    [(present, the period of time that is happenin...\n",
      "20970    [(sum, a quantity of money), (variate, a varia...\n",
      "20971    [(optional, possible but not necessary; left t...\n",
      "Name: processed_text, Length: 20972, dtype: object\n"
     ]
    }
   ],
   "source": [
    "# Apply the preprocess_text function to the dataset\n",
    "abstract_text_multilabel_dataset['processed_text'] = abstract_text_multilabel_dataset['ABSTRACT'].apply(preprocess_text)\n",
    "\n",
    "# Print the updated dataset\n",
    "print(abstract_text_multilabel_dataset['processed_text'])"
   ],
   "metadata": {
    "collapsed": false,
    "ExecuteTime": {
     "end_time": "2024-02-14T18:05:58.735410500Z",
     "start_time": "2024-02-14T18:02:40.219951100Z"
    }
   }
  },
  {
   "cell_type": "code",
   "execution_count": 9,
   "outputs": [
    {
     "data": {
      "text/plain": "                                                   TITLE  \\\n0            Reconstructing Subject-Specific Effect Maps   \n1                     Rotation Invariance Neural Network   \n2      Spherical polyharmonics and Poisson kernels fo...   \n3      A finite element approximation for the stochas...   \n4      Comparative study of Discrete Wavelet Transfor...   \n...                                                  ...   \n20967  Contemporary machine learning: a guide for pra...   \n20968  Uniform diamond coatings on WC-Co hard alloy c...   \n20969  Analysing Soccer Games with Clustering and Con...   \n20970  On the Efficient Simulation of the Left-Tail o...   \n20971   Why optional stopping is a problem for Bayesians   \n\n                                                ABSTRACT  \\\n0        Predictive models allow subject-specific inf...   \n1        Rotation invariance and translation invarian...   \n2        We introduce and develop the notion of spher...   \n3        The stochastic Landau--Lifshitz--Gilbert (LL...   \n4        Fourier-transform infra-red (FTIR) spectra o...   \n...                                                  ...   \n20967    Machine learning is finding increasingly bro...   \n20968    Polycrystalline diamond coatings have been g...   \n20969    We present a new approach for identifying si...   \n20970    The sum of Log-normal variates is encountere...   \n20971    Recently, optional stopping has been a subje...   \n\n                                          processed_text  \n0      [(Predictive, of or relating to prediction; ha...  \n1      [(Rotation, the act of rotating as if on an ax...  \n2      [(introduce, cause to come to know personally)...  \n3      [(stochastic, being or having a random variabl...  \n4      [(spectrum, an ordered array of the components...  \n...                                                  ...  \n20967  [(Machine, any mechanical or electrical device...  \n20968  [(Polycrystalline, composed of aggregates of c...  \n20969  [(present, the period of time that is happenin...  \n20970  [(sum, a quantity of money), (variate, a varia...  \n20971  [(optional, possible but not necessary; left t...  \n\n[20972 rows x 3 columns]",
      "text/html": "<div>\n<style scoped>\n    .dataframe tbody tr th:only-of-type {\n        vertical-align: middle;\n    }\n\n    .dataframe tbody tr th {\n        vertical-align: top;\n    }\n\n    .dataframe thead th {\n        text-align: right;\n    }\n</style>\n<table border=\"1\" class=\"dataframe\">\n  <thead>\n    <tr style=\"text-align: right;\">\n      <th></th>\n      <th>TITLE</th>\n      <th>ABSTRACT</th>\n      <th>processed_text</th>\n    </tr>\n  </thead>\n  <tbody>\n    <tr>\n      <th>0</th>\n      <td>Reconstructing Subject-Specific Effect Maps</td>\n      <td>Predictive models allow subject-specific inf...</td>\n      <td>[(Predictive, of or relating to prediction; ha...</td>\n    </tr>\n    <tr>\n      <th>1</th>\n      <td>Rotation Invariance Neural Network</td>\n      <td>Rotation invariance and translation invarian...</td>\n      <td>[(Rotation, the act of rotating as if on an ax...</td>\n    </tr>\n    <tr>\n      <th>2</th>\n      <td>Spherical polyharmonics and Poisson kernels fo...</td>\n      <td>We introduce and develop the notion of spher...</td>\n      <td>[(introduce, cause to come to know personally)...</td>\n    </tr>\n    <tr>\n      <th>3</th>\n      <td>A finite element approximation for the stochas...</td>\n      <td>The stochastic Landau--Lifshitz--Gilbert (LL...</td>\n      <td>[(stochastic, being or having a random variabl...</td>\n    </tr>\n    <tr>\n      <th>4</th>\n      <td>Comparative study of Discrete Wavelet Transfor...</td>\n      <td>Fourier-transform infra-red (FTIR) spectra o...</td>\n      <td>[(spectrum, an ordered array of the components...</td>\n    </tr>\n    <tr>\n      <th>...</th>\n      <td>...</td>\n      <td>...</td>\n      <td>...</td>\n    </tr>\n    <tr>\n      <th>20967</th>\n      <td>Contemporary machine learning: a guide for pra...</td>\n      <td>Machine learning is finding increasingly bro...</td>\n      <td>[(Machine, any mechanical or electrical device...</td>\n    </tr>\n    <tr>\n      <th>20968</th>\n      <td>Uniform diamond coatings on WC-Co hard alloy c...</td>\n      <td>Polycrystalline diamond coatings have been g...</td>\n      <td>[(Polycrystalline, composed of aggregates of c...</td>\n    </tr>\n    <tr>\n      <th>20969</th>\n      <td>Analysing Soccer Games with Clustering and Con...</td>\n      <td>We present a new approach for identifying si...</td>\n      <td>[(present, the period of time that is happenin...</td>\n    </tr>\n    <tr>\n      <th>20970</th>\n      <td>On the Efficient Simulation of the Left-Tail o...</td>\n      <td>The sum of Log-normal variates is encountere...</td>\n      <td>[(sum, a quantity of money), (variate, a varia...</td>\n    </tr>\n    <tr>\n      <th>20971</th>\n      <td>Why optional stopping is a problem for Bayesians</td>\n      <td>Recently, optional stopping has been a subje...</td>\n      <td>[(optional, possible but not necessary; left t...</td>\n    </tr>\n  </tbody>\n</table>\n<p>20972 rows × 3 columns</p>\n</div>"
     },
     "execution_count": 9,
     "metadata": {},
     "output_type": "execute_result"
    }
   ],
   "source": [
    "abstract_text_multilabel_dataset"
   ],
   "metadata": {
    "collapsed": false,
    "ExecuteTime": {
     "end_time": "2024-02-14T18:07:25.959188900Z",
     "start_time": "2024-02-14T18:07:25.781026500Z"
    }
   }
  },
  {
   "cell_type": "code",
   "execution_count": 12,
   "outputs": [
    {
     "data": {
      "text/plain": "0        [(Predictive, of or relating to prediction; ha...\n1        [(Rotation, the act of rotating as if on an ax...\n2        [(introduce, cause to come to know personally)...\n3        [(stochastic, being or having a random variabl...\n4        [(spectrum, an ordered array of the components...\n                               ...                        \n20967    [(Machine, any mechanical or electrical device...\n20968    [(Polycrystalline, composed of aggregates of c...\n20969    [(present, the period of time that is happenin...\n20970    [(sum, a quantity of money), (variate, a varia...\n20971    [(optional, possible but not necessary; left t...\nName: processed_text, Length: 20972, dtype: object"
     },
     "execution_count": 12,
     "metadata": {},
     "output_type": "execute_result"
    }
   ],
   "source": [
    "abstract_text_multilabel_dataset['processed_text']"
   ],
   "metadata": {
    "collapsed": false,
    "ExecuteTime": {
     "end_time": "2024-02-14T18:07:48.453075600Z",
     "start_time": "2024-02-14T18:07:48.358352200Z"
    }
   }
  },
  {
   "cell_type": "code",
   "execution_count": 15,
   "outputs": [
    {
     "name": "stderr",
     "output_type": "stream",
     "text": [
      "[nltk_data] Downloading package wordnet to\n",
      "[nltk_data]     C:\\Users\\ASUS\\AppData\\Roaming\\nltk_data...\n",
      "[nltk_data]   Package wordnet is already up-to-date!\n"
     ]
    },
    {
     "name": "stdout",
     "output_type": "stream",
     "text": [
      "  (0, 54342)\t0.08291673734895635\n",
      "  (0, 53984)\t0.08242917801203664\n",
      "  (0, 53822)\t0.03447068731469391\n",
      "  (0, 53812)\t0.053132281367355635\n",
      "  (0, 53671)\t0.042867293285369416\n",
      "  (0, 53657)\t0.04053394503214917\n",
      "  (0, 53619)\t0.029236041336735054\n",
      "  (0, 53615)\t0.01734627690820219\n",
      "  (0, 53603)\t0.05327096930868266\n",
      "  (0, 53388)\t0.010948910658469736\n",
      "  (0, 52121)\t0.0646920765181118\n",
      "  (0, 52105)\t0.12794509796121645\n",
      "  (0, 50954)\t0.031226467509269093\n",
      "  (0, 50929)\t0.022588278145959515\n",
      "  (0, 50209)\t0.035108432179775176\n",
      "  (0, 50202)\t0.04486721284124844\n",
      "  (0, 49879)\t0.06279261458690617\n",
      "  (0, 49548)\t0.012788569748866021\n",
      "  (0, 49520)\t0.05894345542792913\n",
      "  (0, 49384)\t0.06660687073563959\n",
      "  (0, 49378)\t0.036809966523875345\n",
      "  (0, 48498)\t0.07539309037442572\n",
      "  (0, 48497)\t0.04456220078240402\n",
      "  (0, 47741)\t0.02210964425575066\n",
      "  (0, 47444)\t0.32674245772025645\n",
      "  :\t:\n",
      "  (20971, 15509)\t0.04569631680989531\n",
      "  (20971, 15308)\t0.06611608533780455\n",
      "  (20971, 13781)\t0.15802522116074372\n",
      "  (20971, 13533)\t0.07758701672864143\n",
      "  (20971, 11156)\t0.054553335268104436\n",
      "  (20971, 10260)\t0.08522149129923152\n",
      "  (20971, 8930)\t0.02226778705263299\n",
      "  (20971, 8658)\t0.01745100523812768\n",
      "  (20971, 8248)\t0.06832750686514487\n",
      "  (20971, 7090)\t0.0288591986071036\n",
      "  (20971, 6814)\t0.03279958277208847\n",
      "  (20971, 6679)\t0.11578975355419\n",
      "  (20971, 6677)\t0.10042190401552806\n",
      "  (20971, 6675)\t0.06911231170950573\n",
      "  (20971, 5719)\t0.02607696950506947\n",
      "  (20971, 5435)\t0.050278849493915014\n",
      "  (20971, 5304)\t0.09163285140293338\n",
      "  (20971, 5274)\t0.017770456075120573\n",
      "  (20971, 5081)\t0.03622811022556862\n",
      "  (20971, 4612)\t0.07167343125319418\n",
      "  (20971, 4211)\t0.03352832990656656\n",
      "  (20971, 4061)\t0.05176912887903109\n",
      "  (20971, 3532)\t0.047095543361913864\n",
      "  (20971, 1113)\t0.1326515482969779\n",
      "  (20971, 1109)\t0.07035189346549944\n"
     ]
    }
   ],
   "source": [
    "import pandas as pd\n",
    "import nltk\n",
    "from nltk.corpus import wordnet\n",
    "from nltk.stem import WordNetLemmatizer\n",
    "from sklearn.feature_extraction.text import TfidfVectorizer\n",
    "\n",
    "nltk.download('wordnet')\n",
    "\n",
    "# Load the dataset\n",
    "abstract_text_multilabel_dataset = pd.read_csv(\"train.csv\")\n",
    "\n",
    "# Initialize the WordNetLemmatizer\n",
    "lemmatizer = WordNetLemmatizer()\n",
    "\n",
    "# Define the preprocess_text function\n",
    "def preprocess_text(text):\n",
    "    # Tokenize the text\n",
    "    tokens = text.split()\n",
    "\n",
    "    # Lemmatize tokens and join them back into a string\n",
    "    lemmatized_tokens = [lemmatizer.lemmatize(token) for token in tokens]\n",
    "    preprocessed_text = ' '.join(lemmatized_tokens)\n",
    "\n",
    "    return preprocessed_text\n",
    "\n",
    "# Apply the preprocess_text function to the dataset\n",
    "abstract_text_multilabel_dataset['processed_text'] = abstract_text_multilabel_dataset['ABSTRACT'].apply(preprocess_text)\n",
    "\n",
    "# Create a TF-IDF vectorizer\n",
    "vectorizer = TfidfVectorizer()\n",
    "\n",
    "# Fit the vectorizer on the preprocessed text\n",
    "vectorizer.fit(abstract_text_multilabel_dataset['processed_text'])\n",
    "\n",
    "# Transform the preprocessed text into TF-IDF numeric embeddings\n",
    "numeric_embeddings = vectorizer.transform(abstract_text_multilabel_dataset['processed_text'])\n",
    "\n",
    "# Print the TF-IDF numeric embeddings\n",
    "print(numeric_embeddings)"
   ],
   "metadata": {
    "collapsed": false,
    "ExecuteTime": {
     "end_time": "2024-02-14T18:10:57.010205Z",
     "start_time": "2024-02-14T18:10:26.556059500Z"
    }
   }
  },
  {
   "cell_type": "code",
   "execution_count": 17,
   "outputs": [],
   "source": [
    "import numpy as np\n",
    "\n",
    "# Convert the sparse matrix to a dense matrix\n",
    "dense_embeddings = numeric_embeddings.toarray()\n",
    "\n",
    "# Get the shape of the dense matrix\n",
    "num_documents, num_features = dense_embeddings.shape\n",
    "\n",
    "# Visit each element in the dense matrix\n",
    "for i in range(num_documents):\n",
    "    for j in range(num_features):\n",
    "        element = dense_embeddings[i, j]\n",
    "        # Do something with the element\n",
    "\n",
    "# Alternatively, you can directly access the non-zero elements of the sparse matrix\n",
    "nonzero_indices = numeric_embeddings.nonzero()\n",
    "nonzero_values = numeric_embeddings.data\n",
    "\n",
    "# Visit each non-zero element\n",
    "for i in range(len(nonzero_values)):\n",
    "    row_index = nonzero_indices[0][i]\n",
    "    col_index = nonzero_indices[1][i]\n",
    "    value = nonzero_values[i]\n",
    "    # Do something with the value and its corresponding row and column indices"
   ],
   "metadata": {
    "collapsed": false,
    "ExecuteTime": {
     "end_time": "2024-02-14T18:22:02.953842400Z",
     "start_time": "2024-02-14T18:13:12.552116200Z"
    }
   }
  },
  {
   "cell_type": "code",
   "execution_count": 20,
   "outputs": [
    {
     "name": "stdout",
     "output_type": "stream",
     "text": [
      "(20972, 54738)\n"
     ]
    }
   ],
   "source": [
    "print(dense_embeddings.shape)"
   ],
   "metadata": {
    "collapsed": false,
    "ExecuteTime": {
     "end_time": "2024-02-14T18:48:21.802337600Z",
     "start_time": "2024-02-14T18:48:21.794627500Z"
    }
   }
  },
  {
   "cell_type": "code",
   "execution_count": 50,
   "outputs": [
    {
     "data": {
      "text/plain": "(2000, 2000)"
     },
     "execution_count": 50,
     "metadata": {},
     "output_type": "execute_result"
    }
   ],
   "source": [
    "dense_embeddings_smaller = dense_embeddings[:2000, :2000]\n",
    "dense_embeddings_smaller.shape"
   ],
   "metadata": {
    "collapsed": false,
    "ExecuteTime": {
     "end_time": "2024-02-14T20:01:12.209856Z",
     "start_time": "2024-02-14T20:01:12.174762Z"
    }
   }
  },
  {
   "cell_type": "code",
   "execution_count": 51,
   "outputs": [],
   "source": [
    "train_labels = abstract_text_multilabel_dataset_labels[:2000]"
   ],
   "metadata": {
    "collapsed": false,
    "ExecuteTime": {
     "end_time": "2024-02-14T20:01:13.134218300Z",
     "start_time": "2024-02-14T20:01:13.094342900Z"
    }
   }
  },
  {
   "cell_type": "code",
   "execution_count": 52,
   "outputs": [],
   "source": [
    "import numpy as np\n",
    "from scipy.sparse import diags\n",
    "from dataset.datasets import make_labels_to_semi_supervised_task\n",
    "\n",
    "def calculate_adjacency_matrix(X, sigma):\n",
    "    n = X.shape[0]\n",
    "    W = np.zeros((n, n), dtype=np.float16)\n",
    "    for i in range(n):\n",
    "        for j in range(n):\n",
    "            W[i][j] = np.exp(-np.square(np.linalg.norm(X[i] - X[j], axis=0)) / sigma ** 2)\n",
    "    return W\n",
    "\n",
    "def label_propagation(X, Y, l, alpha, sigma):\n",
    "    n, D = X.shape\n",
    "    C = Y.shape[1]\n",
    "    u = n - l\n",
    "\n",
    "    # Step 1: Construct neighborhood graph\n",
    "    W = calculate_adjacency_matrix(X, sigma)\n",
    "\n",
    "    # Step 2: Symmetrically normalize adjacency matrix\n",
    "    D = diags(np.sum(W, axis=1))\n",
    "    D_sqrt_inv = diags(1 / np.sqrt(np.sum(W, axis=1)))\n",
    "    W_hat = D_sqrt_inv @ W @ D_sqrt_inv\n",
    "\n",
    "    # Step 3: Calculate stochastic matrix\n",
    "    T = D_sqrt_inv @ W_hat\n",
    "    I = np.identity(n=T.shape[0])\n",
    "    # Step 4: Compute soft labels iteratively\n",
    "    # F = np.zeros((n, C))\n",
    "    F = np.linalg.inv((I - alpha * T)) @ (I - alpha * I) @ Y\n",
    "    # Step 4 (continued): Convert soft labels to hard labels\n",
    "    Y_tilda = np.zeros((n, C))\n",
    "    Y_tilda[:l] = Y[:l]\n",
    "    Y_tilda[l:] = np.where(F[l:] > 0.5, 1, F[l:])\n",
    "    return Y_tilda, F\n",
    "semi_supervised_labels, l = make_labels_to_semi_supervised_task(train_labels, 0.3)\n",
    "Y_, F = label_propagation(dense_embeddings_smaller, semi_supervised_labels, l, alpha=0.6, sigma=1)"
   ],
   "metadata": {
    "collapsed": false,
    "ExecuteTime": {
     "end_time": "2024-02-14T20:03:59.772653800Z",
     "start_time": "2024-02-14T20:01:13.836368Z"
    }
   }
  },
  {
   "cell_type": "code",
   "execution_count": 53,
   "outputs": [
    {
     "name": "stderr",
     "output_type": "stream",
     "text": [
      "C:\\Users\\ASUS\\AppData\\Local\\Temp\\ipykernel_6672\\3961841642.py:11: DeprecationWarning: Keyword argument 'eigvals' is deprecated in favour of 'subset_by_index' keyword instead and will be removed in SciPy 1.12.0.\n",
      "  _, P = eigh(M, eigvals=(D - d, D - 1))\n"
     ]
    }
   ],
   "source": [
    "from scipy.linalg import eigh\n",
    "def dependence_maximization(X, F_tilde, d):\n",
    "    n, D = X.shape\n",
    "    # Step 1: Construct matrix XTHFFTHX\n",
    "    H = np.eye(n) - np.ones((n, n)) / n\n",
    "    K = X @ X.T\n",
    "    L = F_tilde @ F_tilde.T\n",
    "    M = X.T @ H @ L @ H @ X\n",
    "\n",
    "    # Step 2: Eigendecompose XTH˜F˜FTHX\n",
    "    _, P = eigh(M, eigvals=(D - d, D - 1))\n",
    "\n",
    "    return P\n",
    "P = dependence_maximization(dense_embeddings_smaller, Y_, 20)"
   ],
   "metadata": {
    "collapsed": false,
    "ExecuteTime": {
     "end_time": "2024-02-14T20:04:02.801755100Z",
     "start_time": "2024-02-14T20:03:59.791501600Z"
    }
   }
  },
  {
   "cell_type": "code",
   "execution_count": 57,
   "outputs": [],
   "source": [
    "X = dense_embeddings_smaller @ P\n",
    "train = X[:int(0.3 * X.shape[0])]\n",
    "test = X[int(0.3 * X.shape[0]):]\n",
    "train_labels_array = train_labels.to_numpy()\n",
    "train_labels_ = train_labels_array[:int(0.3 * train_labels_array.shape[0])]\n",
    "test_labels_ = train_labels_array[int(0.3 * train_labels_array.shape[0]):]"
   ],
   "metadata": {
    "collapsed": false,
    "ExecuteTime": {
     "end_time": "2024-02-14T20:14:40.449536800Z",
     "start_time": "2024-02-14T20:14:40.386894400Z"
    }
   }
  },
  {
   "cell_type": "code",
   "execution_count": 59,
   "outputs": [
    {
     "name": "stdout",
     "output_type": "stream",
     "text": [
      "The best model is KNN_0 with an average F1 score of 0.13842114874219255\n"
     ]
    }
   ],
   "source": [
    "from sklearn.model_selection import GridSearchCV\n",
    "from sklearn.neighbors import KNeighborsClassifier\n",
    "from xgboost import XGBClassifier\n",
    "from sklearn.ensemble import RandomForestClassifier\n",
    "from sklearn.metrics import f1_score, make_scorer\n",
    "\n",
    "knn_params = {'n_neighbors': [5, 10, ]}\n",
    "xgb_params = {'max_depth': [3, 5, 7], 'learning_rate': [0.1, 0.01, 0.001]}\n",
    "rf_params = {'n_estimators': [100, 200, 300], 'max_depth': [None, 5, 10]}\n",
    "best_models = {}\n",
    "for i in range(train_labels.shape[1]):\n",
    "    # Get the labels for the current column\n",
    "    labels = train_labels_[:, i]\n",
    "\n",
    "    # Run KNN with grid search\n",
    "    knn = KNeighborsClassifier()\n",
    "    knn_grid = GridSearchCV(knn, knn_params, scoring=make_scorer(f1_score, average='micro'))\n",
    "    knn_grid.fit(train, train_labels_)\n",
    "    best_models[f'KNN_{i}'] = knn_grid.best_estimator_\n",
    "\n",
    "    # Run XGBoost with grid search\n",
    "    xgb = XGBClassifier()\n",
    "    xgb_grid = GridSearchCV(xgb, xgb_params, scoring=make_scorer(f1_score, average='micro'))\n",
    "    xgb_grid.fit(train, train_labels_)\n",
    "    best_models[f'XGBoost_{i}'] = xgb_grid.best_estimator_\n",
    "\n",
    "    # Run Random Forest with grid search\n",
    "    rf = RandomForestClassifier()\n",
    "    rf_grid = GridSearchCV(rf, rf_params, scoring=make_scorer(f1_score, average='micro'))\n",
    "    rf_grid.fit(train, train_labels_)\n",
    "    best_models[f'RandomForest_{i}'] = rf_grid.best_estimator_\n",
    "best_model = None\n",
    "best_score = 0.0\n",
    "\n",
    "for model_name, model in best_models.items():\n",
    "    # Make predictions using the model\n",
    "    predictions = model.predict(test)\n",
    "\n",
    "    # Calculate the F1 score for each label separately\n",
    "    scores = []\n",
    "    for i in range(test_labels_.shape[1]):\n",
    "        label_predictions = predictions[:, i]\n",
    "        label_true = test_labels_[:, i]\n",
    "        label_score = f1_score(label_true, label_predictions)\n",
    "        scores.append(label_score)\n",
    "\n",
    "    # Calculate the average F1 score across all labels\n",
    "    score = np.mean(scores)\n",
    "\n",
    "    # Update the best model if the score is higher\n",
    "    if score > best_score:\n",
    "        best_model = model_name\n",
    "        best_score = score\n",
    "\n",
    "print(f\"The best model is {best_model} with an average F1 score of {best_score}\")"
   ],
   "metadata": {
    "collapsed": false,
    "ExecuteTime": {
     "end_time": "2024-02-14T20:21:13.725689700Z",
     "start_time": "2024-02-14T20:15:07.640742100Z"
    }
   }
  },
  {
   "cell_type": "code",
   "execution_count": 61,
   "outputs": [
    {
     "name": "stdout",
     "output_type": "stream",
     "text": [
      "Hamming Loss (HL'): 0.7742857142857142\n",
      "Macro F1-score (MaF1): 0.08125378525287306\n",
      "Micro F1 (MiF1): 0.13027522935779817\n",
      "Average Precision (AP): 0.21571409689996554\n",
      "One-error (OE): 0.2307142857142857\n"
     ]
    }
   ],
   "source": [
    "from evaluation.eval import evaluate_metrics\n",
    "hl, maf1, mif1, rl, ap, oe, cov = evaluate_metrics(test_labels_, xgb_grid.predict(test))\n",
    "print(\"Hamming Loss (HL'):\", 1- hl)\n",
    "print(\"Macro F1-score (MaF1):\", maf1)\n",
    "print(\"Micro F1 (MiF1):\", mif1)\n",
    "print(\"Average Precision (AP):\", ap)\n",
    "print(\"One-error (OE):\", oe)"
   ],
   "metadata": {
    "collapsed": false,
    "ExecuteTime": {
     "end_time": "2024-02-14T20:59:54.212921700Z",
     "start_time": "2024-02-14T20:59:54.095019800Z"
    }
   }
  },
  {
   "cell_type": "code",
   "execution_count": null,
   "outputs": [],
   "source": [],
   "metadata": {
    "collapsed": false
   }
  }
 ],
 "metadata": {
  "kernelspec": {
   "display_name": "Python 3",
   "language": "python",
   "name": "python3"
  },
  "language_info": {
   "codemirror_mode": {
    "name": "ipython",
    "version": 2
   },
   "file_extension": ".py",
   "mimetype": "text/x-python",
   "name": "python",
   "nbconvert_exporter": "python",
   "pygments_lexer": "ipython2",
   "version": "2.7.6"
  }
 },
 "nbformat": 4,
 "nbformat_minor": 0
}
