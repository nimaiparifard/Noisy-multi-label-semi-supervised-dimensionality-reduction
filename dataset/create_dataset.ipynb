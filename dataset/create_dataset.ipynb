{
 "cells": [
  {
   "cell_type": "code",
   "execution_count": 6,
   "outputs": [],
   "source": [
    "import numpy as np\n",
    "import pandas as pd"
   ],
   "metadata": {
    "collapsed": false,
    "ExecuteTime": {
     "end_time": "2024-02-11T07:56:33.765725Z",
     "start_time": "2024-02-11T07:56:33.746501100Z"
    }
   }
  },
  {
   "cell_type": "code",
   "execution_count": 8,
   "metadata": {
    "collapsed": true,
    "ExecuteTime": {
     "end_time": "2024-02-11T08:04:15.648057100Z",
     "start_time": "2024-02-11T08:04:12.131500700Z"
    }
   },
   "outputs": [],
   "source": [
    "import numpy as np\n",
    "\n",
    "def create_dataset():\n",
    "    # Dataset parameters\n",
    "    num_samples = 8000\n",
    "    num_features = 320\n",
    "    num_classes = 4\n",
    "    num_samples_per_class = num_samples // num_classes\n",
    "\n",
    "    # Initialize dataset\n",
    "    dataset = np.zeros((num_samples, num_features))\n",
    "    labels = np.zeros((num_samples, num_classes))\n",
    "\n",
    "    # Generate samples for each class\n",
    "    for i in range(num_classes):\n",
    "        start_index = i * 20\n",
    "        end_index = (i + 1) * 20\n",
    "\n",
    "        # Generate samples for class i\n",
    "        for j in range(num_samples_per_class):\n",
    "            sample_index = i * num_samples_per_class + j\n",
    "\n",
    "            # Set features dependent on class-membership\n",
    "            for k in range(start_index, end_index):\n",
    "                dataset[sample_index, k] = np.random.randint(1, 11)\n",
    "\n",
    "            # Set remaining features\n",
    "            for k in range(end_index, num_features, 20):\n",
    "                if np.random.rand() < 0.5:\n",
    "                    dataset[sample_index, k:k+20] = np.random.randint(1, 11, size=20)\n",
    "\n",
    "            # Set label for class i\n",
    "            labels[sample_index, i] = 1\n",
    "\n",
    "    # Inject noise into labels\n",
    "    noise_fraction = 0.1\n",
    "    num_noisy_labels = int(noise_fraction * num_samples)\n",
    "    noisy_label_indices = np.random.choice(num_samples, num_noisy_labels, replace=False)\n",
    "    noisy_class_indices = np.random.choice(num_classes, num_noisy_labels, replace=True)\n",
    "    labels[noisy_label_indices, noisy_class_indices] = 1 - labels[noisy_label_indices, noisy_class_indices]\n",
    "\n",
    "    # Make data partially labeled\n",
    "    labeled_fraction = 0.5\n",
    "    num_labeled_samples = int(labeled_fraction * num_samples)\n",
    "    labeled_indices = np.random.choice(num_samples, num_labeled_samples, replace=False)\n",
    "    labels[labeled_indices] = -1\n",
    "\n",
    "    # Split into train and test sets\n",
    "    test_fraction = 0.2\n",
    "    num_test_samples = int(test_fraction * num_samples)\n",
    "    test_indices = np.random.choice(num_samples, num_test_samples, replace=False)\n",
    "\n",
    "    train_dataset = dataset[~np.isin(np.arange(num_samples), test_indices)]\n",
    "    train_labels = labels[~np.isin(np.arange(num_samples), test_indices)]\n",
    "    test_dataset = dataset[test_indices]\n",
    "    test_labels = labels[test_indices]\n",
    "\n",
    "    return train_dataset, train_labels, test_dataset, test_labels\n",
    "\n",
    "# Create the dataset\n",
    "train_dataset, train_labels, test_dataset, test_labels = create_dataset()\n"
   ]
  },
  {
   "cell_type": "code",
   "execution_count": 11,
   "outputs": [],
   "source": [
    "np.savetxt('train_dataset.csv', train_dataset, delimiter=',')\n",
    "np.savetxt('train_labels.csv', train_labels, delimiter=',')\n",
    "np.savetxt('test_dataset.csv', test_dataset, delimiter=',')\n",
    "np.savetxt('test_labels.csv', test_labels, delimiter=',')"
   ],
   "metadata": {
    "collapsed": false,
    "ExecuteTime": {
     "end_time": "2024-02-11T08:05:53.339089100Z",
     "start_time": "2024-02-11T08:05:49.922482Z"
    }
   }
  },
  {
   "cell_type": "code",
   "execution_count": 9,
   "outputs": [
    {
     "data": {
      "text/plain": "array([[ 1.,  1.,  0.,  0.],\n       [ 1.,  0.,  0.,  0.],\n       [-1., -1., -1., -1.],\n       ...,\n       [-1., -1., -1., -1.],\n       [-1., -1., -1., -1.],\n       [ 0.,  0.,  0.,  1.]])"
     },
     "execution_count": 9,
     "metadata": {},
     "output_type": "execute_result"
    }
   ],
   "source": [
    "train_labels"
   ],
   "metadata": {
    "collapsed": false,
    "ExecuteTime": {
     "end_time": "2024-02-11T08:04:20.936170600Z",
     "start_time": "2024-02-11T08:04:20.868627100Z"
    }
   }
  },
  {
   "cell_type": "code",
   "execution_count": null,
   "outputs": [],
   "source": [],
   "metadata": {
    "collapsed": false
   }
  }
 ],
 "metadata": {
  "kernelspec": {
   "display_name": "Python 3",
   "language": "python",
   "name": "python3"
  },
  "language_info": {
   "codemirror_mode": {
    "name": "ipython",
    "version": 2
   },
   "file_extension": ".py",
   "mimetype": "text/x-python",
   "name": "python",
   "nbconvert_exporter": "python",
   "pygments_lexer": "ipython2",
   "version": "2.7.6"
  }
 },
 "nbformat": 4,
 "nbformat_minor": 0
}
