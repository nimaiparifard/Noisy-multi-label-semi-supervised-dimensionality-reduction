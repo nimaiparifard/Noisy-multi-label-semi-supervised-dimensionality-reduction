{
 "cells": [
  {
   "cell_type": "code",
   "execution_count": 1,
   "metadata": {
    "collapsed": true,
    "ExecuteTime": {
     "end_time": "2024-02-11T08:09:41.159353400Z",
     "start_time": "2024-02-11T08:09:39.019984300Z"
    }
   },
   "outputs": [],
   "source": [
    "import numpy as np\n",
    "import pandas as pd"
   ]
  },
  {
   "cell_type": "code",
   "execution_count": null,
   "outputs": [],
   "source": [
    "import numpy as np\n",
    "from scipy.sparse import diags\n",
    "\n",
    "def label_propagation(X, Y, alpha, sigma, max_iter=100, tol=1e-4):\n",
    "    n, D = X.shape\n",
    "    l, C = Y.shape\n",
    "    u = n - l\n",
    "\n",
    "    # Step 1: Construct neighborhood graph\n",
    "    W = np.exp(-np.square(np.linalg.norm(X[:, np.newaxis] - X, axis=2)) / (2 * sigma**2))\n",
    "\n",
    "    # Step 2: Symmetrically normalize adjacency matrix\n",
    "    D = diags(np.sum(W, axis=1))\n",
    "    D_sqrt_inv = diags(1 / np.sqrt(np.sum(W, axis=1)))\n",
    "    W_hat = D_sqrt_inv @ W @ D_sqrt_inv\n",
    "\n",
    "    # Step 3: Calculate stochastic matrix\n",
    "    T = D_sqrt_inv @ W @ D_sqrt_inv\n",
    "\n",
    "    # Step 4: Compute soft labels iteratively\n",
    "    F = np.zeros((n, C))\n",
    "    F[:l] = Y\n",
    "    F_new = F.copy()\n",
    "\n",
    "    for _ in range(max_iter):\n",
    "        F = F_new.copy()\n",
    "        F_new = alpha * T @ F + (1 - alpha) * Y\n",
    "\n",
    "        if np.linalg.norm(F_new - F) < tol:\n",
    "            break\n",
    "\n",
    "    # Step 4 (continued): Convert soft labels to hard labels\n",
    "    Y_hat = np.where(F_new > 0.5, 1, 0)\n",
    "\n",
    "    return Y_hat\n",
    "\n",
    "# Example usage\n",
    "X = np.random.rand(100, 10)  # Input data points\n",
    "Y = np.random.randint(0, 2, size=(80, 5))  # Known labels\n",
    "alpha = 0.8  # Hyperparameter for label propagation\n",
    "sigma = 0.5  # Hyperparameter for neighborhood graph\n",
    "\n",
    "Y_hat = label_propagation(X, Y, alpha, sigma)"
   ],
   "metadata": {
    "collapsed": false
   }
  }
 ],
 "metadata": {
  "kernelspec": {
   "display_name": "Python 3",
   "language": "python",
   "name": "python3"
  },
  "language_info": {
   "codemirror_mode": {
    "name": "ipython",
    "version": 2
   },
   "file_extension": ".py",
   "mimetype": "text/x-python",
   "name": "python",
   "nbconvert_exporter": "python",
   "pygments_lexer": "ipython2",
   "version": "2.7.6"
  }
 },
 "nbformat": 4,
 "nbformat_minor": 0
}
