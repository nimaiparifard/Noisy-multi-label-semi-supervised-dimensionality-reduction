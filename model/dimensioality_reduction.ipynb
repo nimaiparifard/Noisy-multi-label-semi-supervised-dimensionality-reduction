{
 "cells": [
  {
   "cell_type": "code",
   "execution_count": 4,
   "outputs": [],
   "source": [
    "import numpy as np\n",
    "from scipy.sparse import diags\n",
    "\n",
    "def calculate_adjacency_matrix(X, sigma):\n",
    "    n = X.shape[0]\n",
    "    W = np.zeros((n, n))\n",
    "    for i in range(n):\n",
    "        for j in range(n):\n",
    "            W[i][j] = np.exp(-np.square(np.linalg.norm(X[i] - X[j], axis=0)) / sigma ** 2)\n",
    "    return W\n",
    "\n",
    "def label_propagation(X, Y, l, alpha, sigma):\n",
    "    n, D = X.shape\n",
    "    C = Y.shape[1]\n",
    "    u = n - l\n",
    "\n",
    "    # Step 1: Construct neighborhood graph\n",
    "    W = calculate_adjacency_matrix(X, sigma)\n",
    "\n",
    "    # Step 2: Symmetrically normalize adjacency matrix\n",
    "    D = diags(np.sum(W, axis=1))\n",
    "    D_sqrt_inv = diags(1 / np.sqrt(np.sum(W, axis=1)))\n",
    "    W_hat = D_sqrt_inv @ W @ D_sqrt_inv\n",
    "\n",
    "    # Step 3: Calculate stochastic matrix\n",
    "    T = D_sqrt_inv @ W_hat\n",
    "    I = np.identity(n=T.shape[0])\n",
    "    # Step 4: Compute soft labels iteratively\n",
    "    # F = np.zeros((n, C))\n",
    "    F = np.linalg.inv((I - alpha * T)) @ (I - alpha * I) @ Y\n",
    "    # Step 4 (continued): Convert soft labels to hard labels\n",
    "    Y_tilda = np.zeros((n, C))\n",
    "    Y_tilda[:l] = Y[:l]\n",
    "    Y_tilda[l:] = np.where(F[l:] > 0.5, 1, F[l:])\n",
    "    return Y_tilda, F\n",
    "\n",
    "\n",
    "from dataset.datasets import create_dataset, make_labels_to_semi_supervised_task\n",
    "\n",
    "train_dataset, train_labels, test_dataset, test_labels = create_dataset()\n",
    "semi_supervised_labels, l = make_labels_to_semi_supervised_task(train_labels, 0.3)\n",
    "Y_, F = label_propagation(train_dataset, semi_supervised_labels, l, alpha=0.6, sigma=1)\n"
   ],
   "metadata": {
    "collapsed": false,
    "ExecuteTime": {
     "end_time": "2024-02-13T18:02:15.562073100Z",
     "start_time": "2024-02-13T17:48:22.815913200Z"
    }
   }
  },
  {
   "cell_type": "code",
   "execution_count": 5,
   "outputs": [
    {
     "data": {
      "text/plain": "array([[1.00000000e+00, 1.00000000e+00, 1.00000000e+00, 1.00000000e+00],\n       [1.00000000e+00, 1.00000000e+00, 2.19048426e-37, 2.61230902e-37],\n       [1.00000000e+00, 1.00000000e+00, 1.72160973e-37, 1.05711703e-37],\n       ...,\n       [1.49288724e-26, 1.86372086e-26, 2.69969350e-25, 2.79377949e-25],\n       [1.15257292e-31, 2.69991414e-31, 3.08979528e-31, 3.04346421e-31],\n       [2.45376214e-27, 2.15622030e-27, 2.98230701e-27, 3.75760836e-26]])"
     },
     "execution_count": 5,
     "metadata": {},
     "output_type": "execute_result"
    }
   ],
   "source": [
    "F"
   ],
   "metadata": {
    "collapsed": false,
    "ExecuteTime": {
     "end_time": "2024-02-13T18:07:29.885292300Z",
     "start_time": "2024-02-13T18:07:29.867581500Z"
    }
   }
  },
  {
   "cell_type": "code",
   "execution_count": null,
   "outputs": [],
   "source": [],
   "metadata": {
    "collapsed": false
   }
  }
 ],
 "metadata": {
  "kernelspec": {
   "display_name": "Python 3",
   "language": "python",
   "name": "python3"
  },
  "language_info": {
   "codemirror_mode": {
    "name": "ipython",
    "version": 2
   },
   "file_extension": ".py",
   "mimetype": "text/x-python",
   "name": "python",
   "nbconvert_exporter": "python",
   "pygments_lexer": "ipython2",
   "version": "2.7.6"
  }
 },
 "nbformat": 4,
 "nbformat_minor": 0
}
